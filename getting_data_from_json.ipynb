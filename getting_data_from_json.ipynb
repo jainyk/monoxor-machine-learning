{
 "cells": [
  {
   "cell_type": "code",
   "execution_count": 1,
   "metadata": {},
   "outputs": [],
   "source": [
    "import json\n",
    "import pandas as pd"
   ]
  },
  {
   "cell_type": "code",
   "execution_count": 2,
   "metadata": {},
   "outputs": [],
   "source": [
    "data = pd.read_json(\"https://jsonblob.com/api/jsonBlob/f0b70eef-566b-11eb-9d92-415b3ac53928\")\n",
    "df = pd.DataFrame(data)"
   ]
  },
  {
   "cell_type": "code",
   "execution_count": 3,
   "metadata": {},
   "outputs": [
    {
     "data": {
      "text/html": [
       "<div>\n",
       "<style scoped>\n",
       "    .dataframe tbody tr th:only-of-type {\n",
       "        vertical-align: middle;\n",
       "    }\n",
       "\n",
       "    .dataframe tbody tr th {\n",
       "        vertical-align: top;\n",
       "    }\n",
       "\n",
       "    .dataframe thead th {\n",
       "        text-align: right;\n",
       "    }\n",
       "</style>\n",
       "<table border=\"1\" class=\"dataframe\">\n",
       "  <thead>\n",
       "    <tr style=\"text-align: right;\">\n",
       "      <th></th>\n",
       "      <th>req</th>\n",
       "      <th>isSafe</th>\n",
       "    </tr>\n",
       "  </thead>\n",
       "  <tbody>\n",
       "    <tr>\n",
       "      <th>0</th>\n",
       "      <td>{'baseUrl': '/crm/note', 'body': {'note': {'ti...</td>\n",
       "      <td>True</td>\n",
       "    </tr>\n",
       "    <tr>\n",
       "      <th>1</th>\n",
       "      <td>{'baseUrl': '/crm/note', 'body': {'note': {'ti...</td>\n",
       "      <td>True</td>\n",
       "    </tr>\n",
       "    <tr>\n",
       "      <th>2</th>\n",
       "      <td>{'baseUrl': '/crm/note', 'body': {'note': {'ti...</td>\n",
       "      <td>False</td>\n",
       "    </tr>\n",
       "    <tr>\n",
       "      <th>3</th>\n",
       "      <td>{'baseUrl': '/crm/note', 'body': {'note': {'ti...</td>\n",
       "      <td>True</td>\n",
       "    </tr>\n",
       "    <tr>\n",
       "      <th>4</th>\n",
       "      <td>{'baseUrl': '/crm/note', 'body': {'note': {'ti...</td>\n",
       "      <td>False</td>\n",
       "    </tr>\n",
       "  </tbody>\n",
       "</table>\n",
       "</div>"
      ],
      "text/plain": [
       "                                                 req  isSafe\n",
       "0  {'baseUrl': '/crm/note', 'body': {'note': {'ti...    True\n",
       "1  {'baseUrl': '/crm/note', 'body': {'note': {'ti...    True\n",
       "2  {'baseUrl': '/crm/note', 'body': {'note': {'ti...   False\n",
       "3  {'baseUrl': '/crm/note', 'body': {'note': {'ti...    True\n",
       "4  {'baseUrl': '/crm/note', 'body': {'note': {'ti...   False"
      ]
     },
     "execution_count": 3,
     "metadata": {},
     "output_type": "execute_result"
    }
   ],
   "source": [
    "df.head()"
   ]
  },
  {
   "cell_type": "code",
   "execution_count": 4,
   "metadata": {},
   "outputs": [],
   "source": [
    "l = len(df['req'])"
   ]
  },
  {
   "cell_type": "code",
   "execution_count": 5,
   "metadata": {},
   "outputs": [],
   "source": [
    "df_data = pd.DataFrame(columns=['ip', 'desc', 'content-length', 'secure', 'protocol', 'issafe'])"
   ]
  },
  {
   "cell_type": "code",
   "execution_count": 6,
   "metadata": {},
   "outputs": [],
   "source": [
    "df_data['ip'] = [df['req'][i]['ip'] for i in range(0, l)]      \n",
    "df_data['desc'] = [df['req'][i]['body']['note']['desc'] for i in range(0, l)]      \n",
    "df_data['content-length'] = [df['req'][i]['headers']['content-length'] for i in range(0, l)]      \n",
    "df_data['secure'] = [df['req'][i]['secure'] for i in range(0, l)]      \n",
    "df_data['protocol'] = [df['req'][i]['protocol'] for i in range(0, l)]      \n",
    "df_data['isafe'] = [df['isSafe'][i] for i in range(0, l)]      "
   ]
  },
  {
   "cell_type": "code",
   "execution_count": 7,
   "metadata": {},
   "outputs": [],
   "source": [
    "df_data.to_csv('monoxor.csv')"
   ]
  },
  {
   "cell_type": "code",
   "execution_count": null,
   "metadata": {},
   "outputs": [],
   "source": []
  }
 ],
 "metadata": {
  "kernelspec": {
   "display_name": "Python 3",
   "language": "python",
   "name": "python3"
  },
  "language_info": {
   "codemirror_mode": {
    "name": "ipython",
    "version": 3
   },
   "file_extension": ".py",
   "mimetype": "text/x-python",
   "name": "python",
   "nbconvert_exporter": "python",
   "pygments_lexer": "ipython3",
   "version": "3.7.9"
  }
 },
 "nbformat": 4,
 "nbformat_minor": 4
}
